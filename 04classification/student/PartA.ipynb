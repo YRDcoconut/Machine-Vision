{
 "cells": [
  {
   "cell_type": "markdown",
   "metadata": {},
   "source": [
    "# Lab 4\n",
    "The goal of this practical is to investigate the logistic regression model. This is broken down into four parts:\n",
    "- [Part A](#Part-A:-Investigating-line-search): investigating line search as a method for optimising black box functions\n",
    "- [Part B](PartB.ipynb): applying Newton's method and steepest descent as optimisation methods for two-dimensional functions\n",
    "- [Part C](PartC.ipynb): using the same optimisation methods for fitting a logistic regression model to simple 2D data\n",
    "- [Part D](PartD.ipynb): implementing the logistic regression model for face detection by using a binary classifier on image data"
   ]
  },
  {
   "cell_type": "markdown",
   "metadata": {},
   "source": [
    "# Part A: Investigating line search\n",
    "Look through the code to understand the goal of this part, and then fill in the 'TO DO' sections - starting with implementing the ['`line_search`'](#Optimisation-procedure) method "
   ]
  },
  {
   "cell_type": "markdown",
   "metadata": {},
   "source": [
    "### Import modules"
   ]
  },
  {
   "cell_type": "code",
   "execution_count": 299,
   "metadata": {},
   "outputs": [
    {
     "name": "stdout",
     "output_type": "stream",
     "text": [
      "The autoreload extension is already loaded. To reload it, use:\n",
      "  %reload_ext autoreload\n"
     ]
    }
   ],
   "source": [
    "%load_ext autoreload\n",
    "%autoreload 2\n",
    "\n",
    "import matplotlib.pyplot as plt\n",
    "import numpy as np\n",
    "%matplotlib inline\n",
    "plt.style.use('machinevision.mplstyle')\n",
    "from numpy import arange, array, exp, sin\n",
    "from scipy.optimize import fmin"
   ]
  },
  {
   "cell_type": "markdown",
   "metadata": {},
   "source": [
    "# Define functions to optimise\n",
    "You can think of each of these functions as being a 'black box'"
   ]
  },
  {
   "cell_type": "code",
   "execution_count": 300,
   "metadata": {
    "collapsed": true,
    "jupyter": {
     "outputs_hidden": true
    }
   },
   "outputs": [],
   "source": [
    "def my_function(x):\n",
    "    if x < 0:\n",
    "        return -x\n",
    "    elif x > 1:\n",
    "        return -sin((1 * 1.8)**2) + x - 1\n",
    "    else:\n",
    "        return -sin((x * 1.8)**2)\n",
    "\n",
    "\n",
    "def my_function2(x):\n",
    "    if x < 0:\n",
    "        return -x - exp(-0.5 * (-0.2 / 0.025)**2)\n",
    "    elif x > 1:\n",
    "        return -sin((1 * 1.8)**2) + x - 1\n",
    "    else:\n",
    "        return -sin((x * 1.8)**2) - exp(-0.5 * ((x - 0.2) / 0.025)**2)"
   ]
  },
  {
   "cell_type": "markdown",
   "metadata": {},
   "source": [
    "# Optimisation procedure"
   ]
  },
  {
   "cell_type": "code",
   "execution_count": 301,
   "metadata": {
    "collapsed": true,
    "jupyter": {
     "outputs_hidden": true
    }
   },
   "outputs": [],
   "source": [
    "def line_search(function, start, end, tolerance):\n",
    "    a = start\n",
    "    d = end\n",
    "\n",
    "    while (d - a) > tolerance:\n",
    "        print('Current Search Region is {:6.6f} to {:6.6f}'.format(a, d))\n",
    "        #break\n",
    "        # TO DO - Implement a line search iteration:\n",
    "        #\n",
    "        # step 1: Remove the break above\n",
    "        # step 2: Calculate intermediate positions b and c, 1/3 and 2/3 of the way through interval\n",
    "        #         (between a and d), respectively\n",
    "        #\n",
    "        # step 3:  Evaluate function at points b and c\n",
    "        #\n",
    "        # step 4:  Update point a or d depending on the values of those evaluations\n",
    "        b = (d - a) / 10 + a\n",
    "        c = (d - a) * 9 / 10 + a\n",
    "        if (function(b) < function(c)):\n",
    "            d = c\n",
    "        else:\n",
    "            a = b\n",
    "    return a, function(a)"
   ]
  },
  {
   "cell_type": "markdown",
   "metadata": {},
   "source": [
    "# Construct data"
   ]
  },
  {
   "cell_type": "code",
   "execution_count": 302,
   "metadata": {
    "collapsed": true,
    "jupyter": {
     "outputs_hidden": true
    }
   },
   "outputs": [],
   "source": [
    "#function = my_function\n",
    "function = my_function2\n",
    "\n",
    "x = arange(0, 1, step=0.01)\n",
    "w = array([function(x_i) for x_i in x])\n"
   ]
  },
  {
   "cell_type": "markdown",
   "metadata": {},
   "source": [
    "# Perform optimisation"
   ]
  },
  {
   "cell_type": "markdown",
   "metadata": {},
   "source": [
    "### Line search"
   ]
  },
  {
   "cell_type": "code",
   "execution_count": 303,
   "metadata": {
    "collapsed": true,
    "jupyter": {
     "outputs_hidden": true
    }
   },
   "outputs": [
    {
     "name": "stdout",
     "output_type": "stream",
     "text": [
      "Current Search Region is 0.103049 to 0.603049\n",
      "Current Search Region is 0.153049 to 0.603049\n",
      "Current Search Region is 0.153049 to 0.558049\n",
      "Current Search Region is 0.153049 to 0.517549\n",
      "Current Search Region is 0.153049 to 0.481099\n",
      "Current Search Region is 0.153049 to 0.448294\n",
      "Current Search Region is 0.153049 to 0.418769\n",
      "Current Search Region is 0.153049 to 0.392197\n",
      "Current Search Region is 0.153049 to 0.368282\n",
      "Current Search Region is 0.153049 to 0.346759\n",
      "Current Search Region is 0.153049 to 0.327388\n",
      "Current Search Region is 0.153049 to 0.309954\n",
      "Current Search Region is 0.153049 to 0.294263\n",
      "Current Search Region is 0.153049 to 0.280142\n",
      "Current Search Region is 0.153049 to 0.267433\n",
      "Current Search Region is 0.153049 to 0.255994\n",
      "Current Search Region is 0.153049 to 0.245700\n",
      "Current Search Region is 0.162314 to 0.245700\n",
      "Current Search Region is 0.162314 to 0.237361\n",
      "Current Search Region is 0.169818 to 0.237361\n",
      "Current Search Region is 0.169818 to 0.230607\n",
      "Current Search Region is 0.175897 to 0.230607\n",
      "Current Search Region is 0.175897 to 0.225136\n",
      "Current Search Region is 0.180821 to 0.225136\n",
      "Current Search Region is 0.180821 to 0.220704\n",
      "Current Search Region is 0.184809 to 0.220704\n",
      "Current Search Region is 0.184809 to 0.217115\n",
      "Current Search Region is 0.184809 to 0.213884\n",
      "Current Search Region is 0.187717 to 0.213884\n",
      "Current Search Region is 0.190334 to 0.213884\n",
      "Current Search Region is 0.190334 to 0.211529\n",
      "Current Search Region is 0.190334 to 0.209410\n",
      "Current Search Region is 0.192241 to 0.209410\n",
      "Current Search Region is 0.193958 to 0.209410\n",
      "Current Search Region is 0.193958 to 0.207865\n",
      "Current Search Region is 0.193958 to 0.206474\n",
      "Current Search Region is 0.195210 to 0.206474\n",
      "Current Search Region is 0.195210 to 0.205347\n",
      "Current Search Region is 0.196223 to 0.205347\n",
      "Current Search Region is 0.197136 to 0.205347\n",
      "Current Search Region is 0.197136 to 0.204526\n",
      "Current Search Region is 0.197136 to 0.203787\n",
      "Current Search Region is 0.197801 to 0.203787\n",
      "Current Search Region is 0.198400 to 0.203787\n",
      "Current Search Region is 0.198400 to 0.203249\n",
      "Current Search Region is 0.198400 to 0.202764\n",
      "Current Search Region is 0.198836 to 0.202764\n",
      "Current Search Region is 0.199229 to 0.202764\n",
      "Current Search Region is 0.199229 to 0.202410\n",
      "Current Search Region is 0.199229 to 0.202092\n",
      "Current Search Region is 0.199515 to 0.202092\n",
      "Current Search Region is 0.199773 to 0.202092\n",
      "Current Search Region is 0.199773 to 0.201860\n",
      "Current Search Region is 0.199773 to 0.201651\n",
      "Current Search Region is 0.199961 to 0.201651\n",
      "Current Search Region is 0.200130 to 0.201651\n",
      "Current Search Region is 0.200130 to 0.201499\n",
      "Current Search Region is 0.200130 to 0.201362\n",
      "Current Search Region is 0.200253 to 0.201362\n",
      "Current Search Region is 0.200253 to 0.201251\n",
      "Current Search Region is 0.200353 to 0.201251\n",
      "Current Search Region is 0.200443 to 0.201251\n",
      "Current Search Region is 0.200443 to 0.201170\n",
      "Current Search Region is 0.200515 to 0.201170\n",
      "Current Search Region is 0.200515 to 0.201105\n",
      "Current Search Region is 0.200515 to 0.201046\n",
      "Current Search Region is 0.200568 to 0.201046\n",
      "Current Search Region is 0.200568 to 0.200998\n",
      "Current Search Region is 0.200611 to 0.200998\n",
      "Current Search Region is 0.200650 to 0.200998\n",
      "Current Search Region is 0.200650 to 0.200963\n",
      "Current Search Region is 0.200650 to 0.200932\n",
      "Current Search Region is 0.200678 to 0.200932\n",
      "Current Search Region is 0.200704 to 0.200932\n",
      "Current Search Region is 0.200704 to 0.200909\n",
      "Current Search Region is 0.200724 to 0.200909\n",
      "Current Search Region is 0.200724 to 0.200891\n",
      "Current Search Region is 0.200724 to 0.200874\n",
      "Current Search Region is 0.200739 to 0.200874\n",
      "Current Search Region is 0.200753 to 0.200874\n",
      "Current Search Region is 0.200753 to 0.200862\n"
     ]
    }
   ],
   "source": [
    "#randomly initialize start point and end point to find global minimum of my_function2, which has more than one local minimum\n",
    "start = np.random.rand(1).item()\n",
    "end = start + 0.5\n",
    "min_x, min_value = line_search(function, start, end, tolerance=1e-4)"
   ]
  },
  {
   "cell_type": "markdown",
   "metadata": {},
   "source": [
    "### SciPy optimisation\n",
    "There is a SciPy method that can do this optimisation for you given a function.\n",
    "\n",
    "**TO DO:** Look up the help page for the function `fmin`, you can also try `?fmin` in a new jupyter cell to get an information about functions."
   ]
  },
  {
   "cell_type": "code",
   "execution_count": 304,
   "metadata": {
    "collapsed": true,
    "jupyter": {
     "outputs_hidden": true
    }
   },
   "outputs": [
    {
     "name": "stdout",
     "output_type": "stream",
     "text": [
      "Optimization terminated successfully.\n",
      "         Current function value: -1.129756\n",
      "         Iterations: 20\n",
      "         Function evaluations: 40\n"
     ]
    }
   ],
   "source": [
    "scipy_min_x = fmin(function, x0=0, xtol=1e-4)\n",
    "scipy_min_value = function(scipy_min_x)"
   ]
  },
  {
   "cell_type": "code",
   "execution_count": 305,
   "metadata": {},
   "outputs": [
    {
     "name": "stdout",
     "output_type": "stream",
     "text": [
      "\u001b[1;31mSignature:\u001b[0m\n",
      "\u001b[0mfmin\u001b[0m\u001b[1;33m(\u001b[0m\u001b[1;33m\n",
      "\u001b[0m    \u001b[0mfunc\u001b[0m\u001b[1;33m,\u001b[0m\u001b[1;33m\n",
      "\u001b[0m    \u001b[0mx0\u001b[0m\u001b[1;33m,\u001b[0m\u001b[1;33m\n",
      "\u001b[0m    \u001b[0margs\u001b[0m\u001b[1;33m=\u001b[0m\u001b[1;33m(\u001b[0m\u001b[1;33m)\u001b[0m\u001b[1;33m,\u001b[0m\u001b[1;33m\n",
      "\u001b[0m    \u001b[0mxtol\u001b[0m\u001b[1;33m=\u001b[0m\u001b[1;36m0.0001\u001b[0m\u001b[1;33m,\u001b[0m\u001b[1;33m\n",
      "\u001b[0m    \u001b[0mftol\u001b[0m\u001b[1;33m=\u001b[0m\u001b[1;36m0.0001\u001b[0m\u001b[1;33m,\u001b[0m\u001b[1;33m\n",
      "\u001b[0m    \u001b[0mmaxiter\u001b[0m\u001b[1;33m=\u001b[0m\u001b[1;32mNone\u001b[0m\u001b[1;33m,\u001b[0m\u001b[1;33m\n",
      "\u001b[0m    \u001b[0mmaxfun\u001b[0m\u001b[1;33m=\u001b[0m\u001b[1;32mNone\u001b[0m\u001b[1;33m,\u001b[0m\u001b[1;33m\n",
      "\u001b[0m    \u001b[0mfull_output\u001b[0m\u001b[1;33m=\u001b[0m\u001b[1;36m0\u001b[0m\u001b[1;33m,\u001b[0m\u001b[1;33m\n",
      "\u001b[0m    \u001b[0mdisp\u001b[0m\u001b[1;33m=\u001b[0m\u001b[1;36m1\u001b[0m\u001b[1;33m,\u001b[0m\u001b[1;33m\n",
      "\u001b[0m    \u001b[0mretall\u001b[0m\u001b[1;33m=\u001b[0m\u001b[1;36m0\u001b[0m\u001b[1;33m,\u001b[0m\u001b[1;33m\n",
      "\u001b[0m    \u001b[0mcallback\u001b[0m\u001b[1;33m=\u001b[0m\u001b[1;32mNone\u001b[0m\u001b[1;33m,\u001b[0m\u001b[1;33m\n",
      "\u001b[0m    \u001b[0minitial_simplex\u001b[0m\u001b[1;33m=\u001b[0m\u001b[1;32mNone\u001b[0m\u001b[1;33m,\u001b[0m\u001b[1;33m\n",
      "\u001b[0m\u001b[1;33m)\u001b[0m\u001b[1;33m\u001b[0m\u001b[1;33m\u001b[0m\u001b[0m\n",
      "\u001b[1;31mDocstring:\u001b[0m\n",
      "Minimize a function using the downhill simplex algorithm.\n",
      "\n",
      "This algorithm only uses function values, not derivatives or second\n",
      "derivatives.\n",
      "\n",
      "Parameters\n",
      "----------\n",
      "func : callable func(x,*args)\n",
      "    The objective function to be minimized.\n",
      "x0 : ndarray\n",
      "    Initial guess.\n",
      "args : tuple, optional\n",
      "    Extra arguments passed to func, i.e., ``f(x,*args)``.\n",
      "xtol : float, optional\n",
      "    Absolute error in xopt between iterations that is acceptable for\n",
      "    convergence.\n",
      "ftol : number, optional\n",
      "    Absolute error in func(xopt) between iterations that is acceptable for\n",
      "    convergence.\n",
      "maxiter : int, optional\n",
      "    Maximum number of iterations to perform.\n",
      "maxfun : number, optional\n",
      "    Maximum number of function evaluations to make.\n",
      "full_output : bool, optional\n",
      "    Set to True if fopt and warnflag outputs are desired.\n",
      "disp : bool, optional\n",
      "    Set to True to print convergence messages.\n",
      "retall : bool, optional\n",
      "    Set to True to return list of solutions at each iteration.\n",
      "callback : callable, optional\n",
      "    Called after each iteration, as callback(xk), where xk is the\n",
      "    current parameter vector.\n",
      "initial_simplex : array_like of shape (N + 1, N), optional\n",
      "    Initial simplex. If given, overrides `x0`.\n",
      "    ``initial_simplex[j,:]`` should contain the coordinates of\n",
      "    the jth vertex of the ``N+1`` vertices in the simplex, where\n",
      "    ``N`` is the dimension.\n",
      "\n",
      "Returns\n",
      "-------\n",
      "xopt : ndarray\n",
      "    Parameter that minimizes function.\n",
      "fopt : float\n",
      "    Value of function at minimum: ``fopt = func(xopt)``.\n",
      "iter : int\n",
      "    Number of iterations performed.\n",
      "funcalls : int\n",
      "    Number of function calls made.\n",
      "warnflag : int\n",
      "    1 : Maximum number of function evaluations made.\n",
      "    2 : Maximum number of iterations reached.\n",
      "allvecs : list\n",
      "    Solution at each iteration.\n",
      "\n",
      "See also\n",
      "--------\n",
      "minimize: Interface to minimization algorithms for multivariate\n",
      "    functions. See the 'Nelder-Mead' `method` in particular.\n",
      "\n",
      "Notes\n",
      "-----\n",
      "Uses a Nelder-Mead simplex algorithm to find the minimum of function of\n",
      "one or more variables.\n",
      "\n",
      "This algorithm has a long history of successful use in applications.\n",
      "But it will usually be slower than an algorithm that uses first or\n",
      "second derivative information. In practice, it can have poor\n",
      "performance in high-dimensional problems and is not robust to\n",
      "minimizing complicated functions. Additionally, there currently is no\n",
      "complete theory describing when the algorithm will successfully\n",
      "converge to the minimum, or how fast it will if it does. Both the ftol and\n",
      "xtol criteria must be met for convergence.\n",
      "\n",
      "Examples\n",
      "--------\n",
      ">>> def f(x):\n",
      "...     return x**2\n",
      "\n",
      ">>> from scipy import optimize\n",
      "\n",
      ">>> minimum = optimize.fmin(f, 1)\n",
      "Optimization terminated successfully.\n",
      "         Current function value: 0.000000\n",
      "         Iterations: 17\n",
      "         Function evaluations: 34\n",
      ">>> minimum[0]\n",
      "-8.8817841970012523e-16\n",
      "\n",
      "References\n",
      "----------\n",
      ".. [1] Nelder, J.A. and Mead, R. (1965), \"A simplex method for function\n",
      "       minimization\", The Computer Journal, 7, pp. 308-313\n",
      "\n",
      ".. [2] Wright, M.H. (1996), \"Direct Search Methods: Once Scorned, Now\n",
      "       Respectable\", in Numerical Analysis 1995, Proceedings of the\n",
      "       1995 Dundee Biennial Conference in Numerical Analysis, D.F.\n",
      "       Griffiths and G.A. Watson (Eds.), Addison Wesley Longman,\n",
      "       Harlow, UK, pp. 191-208.\n",
      "\u001b[1;31mFile:\u001b[0m      d:\\users\\23657\\miniconda3\\envs\\mv00\\lib\\site-packages\\scipy\\optimize\\_optimize.py\n",
      "\u001b[1;31mType:\u001b[0m      function"
     ]
    }
   ],
   "source": [
    "?fmin"
   ]
  },
  {
   "cell_type": "markdown",
   "metadata": {},
   "source": [
    "# Visualise results\n",
    "If everything is working correctly the optimised `x` from the line search and the result from `fmin` should coincide, and appear to be at the function's minimum"
   ]
  },
  {
   "cell_type": "code",
   "execution_count": 306,
   "metadata": {
    "collapsed": true,
    "jupyter": {
     "outputs_hidden": true
    }
   },
   "outputs": [
    {
     "data": {
      "image/png": "[encoded data removed]",
      "text/plain": [
       "<Figure size 900x800 with 1 Axes>"
      ]
     },
     "metadata": {},
     "output_type": "display_data"
    }
   ],
   "source": [
    "fig, ax = plt.subplots(figsize=(9, 8))\n",
    "\n",
    "ax.plot(x, w, 'b-')\n",
    "ax.plot(scipy_min_x, scipy_min_value, 'ro', markeredgewidth=2, markersize=22, label='SciPy')\n",
    "ax.plot(min_x, min_value, 'bo', fillstyle='full', label='line search')\n",
    "\n",
    "ax.set(xlabel='$x$', ylabel='$f(x)$', xlim=[0, 1], ylim=[-1.5, 0.5])\n",
    "plt.legend();"
   ]
  },
  {
   "cell_type": "markdown",
   "metadata": {},
   "source": [
    "## TO DO\n",
    "### Repeat the process for `myfunction2`\n",
    "Try using different initialisations in order to find the *global* minimum"
   ]
  }
 ],
 "metadata": {
  "interpreter": {
   "hash": "3067ead486e059ec00ffe7555bdb889e6e264a24dc711bf108106cc7baee8d5d"
  },
  "kernelspec": {
   "display_name": "Python 3.8.8 64-bit ('base': conda)",
   "name": "python3"
  },
  "language_info": {
   "codemirror_mode": {
    "name": "ipython",
    "version": 3
   },
   "file_extension": ".py",
   "mimetype": "text/x-python",
   "name": "python",
   "nbconvert_exporter": "python",
   "pygments_lexer": "ipython3",
   "version": "3.9.18"
  }
 },
 "nbformat": 4,
 "nbformat_minor": 4
}
